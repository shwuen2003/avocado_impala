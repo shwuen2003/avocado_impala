{
 "cells": [
  {
   "cell_type": "markdown",
   "id": "f1d5e2f6",
   "metadata": {
    "toc": true
   },
   "source": [
    "<h1>Table of Contents<span class=\"tocSkip\"></span></h1>\n",
    "<div class=\"toc\"><ul class=\"toc-item\"></ul></div>"
   ]
  },
  {
   "cell_type": "code",
   "execution_count": 12,
   "id": "49c833af",
   "metadata": {},
   "outputs": [],
   "source": [
    "import math\n",
    "import numpy as np\n",
    "import pandas as pd"
   ]
  },
  {
   "cell_type": "code",
   "execution_count": 5,
   "id": "80bb50de",
   "metadata": {},
   "outputs": [],
   "source": [
    "# test\n",
    "financial_statement = {\n",
    "    'net_income': 5,\n",
    "    'revenue': 2,\n",
    "    'current_assets': 3,\n",
    "    'current_liabilities': 3,\n",
    "    'inventory': 1,\n",
    "    'total_liabilities': 1,\n",
    "    'total_equity': 1,\n",
    "    'total_assets': 10,\n",
    "    'profit_before_tax': 1,\n",
    "    'interest_expense':1,\n",
    "    'shareholders_equity':10,\n",
    "    'capital_expenditures':3,\n",
    "    'earnings_per_share': 0.5,\n",
    "    'dividend': 0.5\n",
    "}"
   ]
  },
  {
   "cell_type": "code",
   "execution_count": 6,
   "id": "beaebaeb",
   "metadata": {
    "scrolled": true
   },
   "outputs": [],
   "source": [
    "# need the latest price_per_share, total_shares_outstanding, dividend maybe using API??\n",
    "class fundamental_analysis:\n",
    "    def __init__(self, data, price_per_share, total_shares_outstanding):\n",
    "        self.data = data\n",
    "        self.price_per_share = price_per_share\n",
    "        self.total_shares_outstanding = total_shares_outstanding\n",
    "        \n",
    "        # Analyze Liquidity\n",
    "        self.current_ratio = self.data['current_assets'] / self.data['current_liabilities']\n",
    "        self.quick_ratio = (self.data['current_assets'] - self.data['inventory'])/ self.data['current_liabilities']\n",
    "        \n",
    "        # Assess Leverage\n",
    "        self.debt_to_equity_ratio = self.data['total_liabilities'] / self.data['total_equity']\n",
    "        self.interest_coverage_ratio = self.data['profit_before_tax'] / self.data['interest_expense']\n",
    "        \n",
    "        # Evaluate Profitability\n",
    "        self.net_profit_margin = self.data['net_income']/self.data['revenue']\n",
    "        self.return_on_assets = self.data['net_income']/self.data['total_assets']\n",
    "        self.return_on_equity = self.data['net_income']/self.data['shareholders_equity']\n",
    "        \n",
    "        # Assess Cash Flow\n",
    "        self.operating_cash_flow = self.data['net_income'] + self.data['interest_expense'] + self.data['current_assets'] - self.data['current_liabilities'] - self.data['inventory']\n",
    "        self.free_cash_flow = self.operating_cash_flow - self.data['capital_expenditures']\n",
    "        \n",
    "        # Examine Solvency\n",
    "        self.debt_to_asset_ratio = self.data['total_liabilities'] / self.data['total_assets']\n",
    "        self.equity_ratio = self.data['total_equity'] / self.data['total_assets']\n",
    "        \n",
    "        # Efficiency Ratio\n",
    "        self.asset_turnover_ratio = self.data['revenue'] / self.data['total_assets']\n",
    "\n",
    "        # Market Valuation Ratios\n",
    "        self.pe_ratio = self.price_per_share / self.data['earnings_per_share']\n",
    "        self.pb_ratio = self.price_per_share * self.total_shares_outstanding / self.data['total_equity']\n",
    "        self.dividend_yield = self.data['dividend'] / self.price_per_share\n",
    "        \n",
    "    def Altman_Z_Score(self, previous_retained_earning):\n",
    "        '''\n",
    "        Financial model used to predict the likelihood of a company going brankrupt.\n",
    "        Z > 2.99: The company is considered safe from brankruptcy.\n",
    "        1.81 < Z < 2.99: The company is in the gray zone, meaning there is a moderate risk of bankruptcy\n",
    "        Z < 1.81: The company is in the distress zone, which indicates a high risk of bankruptcy.\n",
    "        '''\n",
    "        self.previous_retained_earning = previous_retained_earning\n",
    "        x1 = (self.data['current_assets'] - self.data['current_liabilities']) / self.data['total_assets']\n",
    "        x2 = self.previous_retained_earning / self.data['total_assets']\n",
    "        x3 = self.data['net_income'] / self.data['total_assets']\n",
    "        x4 = (self.price_per_share * self.total_shares_outstanding) / self.data['total_liabilities']\n",
    "        x5 = self.data['revenue'] / self.data['total_assets']\n",
    "        \n",
    "        z = 1.2 * x1 + 1.4 * x2 + 3.3 * x3 + 0.6 * x4 + 1.0 * x5\n",
    "        if z > 2.99:\n",
    "            return print(f\"Z-Score:{z:.3f} - Safe Zone\")\n",
    "        elif 1.81 < Z <= 2.99:\n",
    "            return print(f\"Z-Score:{z:.3f} - Grey Zone\")\n",
    "        else:\n",
    "            return print(f\"Z-Score:{z:.3f} - Distress Zone\")\n",
    "    \n",
    "    def Ohlson_O_Score(self, depreciation=0, amortization=0, gains_on_sales=0, losses_on_sales=0):\n",
    "        '''\n",
    "        The Ohlson O-Score is a bankruptcy prediction model developed by James Ohlson in 1980, which assesses \n",
    "        the probability that a firm will go bankrupt. It uses financial ratios and data to calculate a score \n",
    "        that helps predict bankruptcy risk. The lower the O-Score, the lower the probability of bankruptcy.\n",
    "        '''\n",
    "        x1 = 0.407 * math.log(self.data['total_assets'])\n",
    "        x2 = 6.03 * self.data['total_liabilities'] / self.data['total_assets']\n",
    "        x3 = 1.43 * (self.data['current_assets'] - self.data['current_liabilities']) / self.data['total_assets']\n",
    "        x4 = 0.0757 * self.data['current_liabilities'] / self.data['current_assets']\n",
    "        x5 = 2.37 * self.data['net_income'] / self.data['total_assets']\n",
    "        x6 = 1.83 * (self.data['net_income'] + depreciation + amortization + gains_on_sales - losses_on_sales) / self.data['total_liabilities']\n",
    "        x7 = 0.521 * (self.data['net_income'] - self.data['dividend']) / self.data['total_assets']\n",
    "        \n",
    "        o_score = -1.32 - x1 + x2 - x3 + x4 - x5 - x6 -x7\n",
    "        if o_score < -1.0:\n",
    "            return print(f\"O-Score: {o_score:.3f} - Distress Zone\")\n",
    "        elif -1.0 <= o_score <= 0.5:\n",
    "            return print(f\"O-Score: {o_score:.3f} - Grey Zone\")\n",
    "        else:\n",
    "            return print(f\"O-Score: {o_score:.3f} - Safe Zone\")\n",
    "        \n",
    "    def Springate_S_Score(self, depreciation=0):\n",
    "        '''\n",
    "        The Springate Model (S-Score) is a financial distress prediction model that uses a company's financial \n",
    "        ratios to assess its likelihood of going bankrupt.\n",
    "        '''\n",
    "        a = (self.data['net_income'] + depreciation) / self.data['total_assets']\n",
    "        b = (self.data['current_assets'] - self.data['current_liabilities']) / self.data['total_assets']\n",
    "        c = self.data['revenue'] / self.data['total_assets']\n",
    "        d = self.data['total_equity'] / self.data['total_liabilities']\n",
    "        \n",
    "        s_score = 1.03*a + 3.07*b + 0.66*c + 0.4*d\n",
    "        if s_score < 0.5:\n",
    "            return print(f\"S-Score: {s_score:.3f} - Distress Zone\")\n",
    "        elif 0.5 <= s_score <= 1.0:\n",
    "            return print(f\"S-Score: {s_score:.3f} - Grey Zone\")\n",
    "        else:\n",
    "            return print(f\"S-Score: {s_score:.3f} - Safe Zone\")\n",
    "        \n",
    "    def CAPM(self, stock, stock_monthly, index_monthly):\n",
    "        stock_dif = stock['Price'][::-1].reset_index(drop=True).diff()\n",
    "        stock_monthly_dif = stock_monthly['Price'][::-1].reset_index(drop=True).diff()\n",
    "        index_monthly_dif = index_monthly['Price'][::-1].reset_index(drop=True).str.replace(',', '').astype(float).diff()\n",
    "\n",
    "        stock_monthly_table = stock_monthly_dif[1:].to_frame(name='Stock Monthly')\n",
    "        stock_table = stock_dif[1:].to_frame(name='Stock Daily')\n",
    "        index_monthly_table = index_monthly_dif[1:].to_frame(name='Index Monthly')\n",
    "        \n",
    "        mean = stock_monthly_table.values.mean()\n",
    "        var = stock_monthly_table.values.var()\n",
    "        stock_monthly_table.loc['mean'] = mean\n",
    "        stock_monthly_table.loc['var'] = var\n",
    "\n",
    "        mean = stock_table.values.mean()\n",
    "        var = stock_table.values.var()\n",
    "        stock_table.loc['mean'] = mean\n",
    "        stock_table.loc['var'] = var\n",
    "\n",
    "        mean = index_monthly_table.values.mean()\n",
    "        var = index_monthly_table.values.var()\n",
    "        index_monthly_table.loc['mean'] = mean\n",
    "        index_monthly_table.loc['var'] = var\n",
    "        \n",
    "        cov = np.cov(index_monthly_table.iloc[:10,0].values, stock_monthly_table.iloc[:10,0].values)[1,0]\n",
    "        beta = cov / index_monthly_table.loc['var'][0]\n",
    "\n",
    "        risk_free = 0.04 # 16th Oct 2024\n",
    "        sharpe_ratio = (stock_monthly_table.loc['mean'][0] - risk_free) / np.sqrt(stock_monthly_table.loc['var'][0])\n",
    "\n",
    "        treynor = (stock_monthly_table.loc['mean'][0] - risk_free) / beta\n",
    "        \n",
    "        print(f\"Sharpe Ratio: {sharpe_ratio:.3f}\") \n",
    "        if sharpe_ratio > 1:\n",
    "            print(\"Good return per unit of risk.\")\n",
    "        elif 1>=sharpe_ratio>0:\n",
    "            print(\"Return is not sufficient to compensate for the risk, suggesting that the investment may not be worthwhile compared to the risk-free rate.\")\n",
    "        else:\n",
    "            print(\"Investment is performing worse than the risk-free rate.\")\n",
    "\n",
    "        print(f\"\\nTreynor: {treynor:.3f}\") \n",
    "        if treynor > 0:\n",
    "            print(\"The return is providing a return that exceeds the risk-free rate per unit of market risk.\")\n",
    "        else:\n",
    "            print(\"The return is underperforming relative to the risk-free rate.\")\n"
   ]
  },
  {
   "cell_type": "code",
   "execution_count": 7,
   "id": "3d5b5038",
   "metadata": {},
   "outputs": [],
   "source": [
    "test = fundamental_analysis(financial_statement, price_per_share=1, total_shares_outstanding=100)"
   ]
  },
  {
   "cell_type": "code",
   "execution_count": 8,
   "id": "42852ce3",
   "metadata": {},
   "outputs": [
    {
     "name": "stdout",
     "output_type": "stream",
     "text": [
      "Z-Score:62.550 - Safe Zone\n"
     ]
    }
   ],
   "source": [
    "# test.dividend_yield\n",
    "test.Altman_Z_Score(previous_retained_earning = 5)"
   ]
  },
  {
   "cell_type": "code",
   "execution_count": 9,
   "id": "a80d4d86",
   "metadata": {},
   "outputs": [
    {
     "name": "stdout",
     "output_type": "stream",
     "text": [
      "O-Score: -12.148 - Distress Zone\n"
     ]
    }
   ],
   "source": [
    "test.Ohlson_O_Score()"
   ]
  },
  {
   "cell_type": "code",
   "execution_count": 10,
   "id": "1ea49673",
   "metadata": {},
   "outputs": [
    {
     "name": "stdout",
     "output_type": "stream",
     "text": [
      "S-Score: 1.047 - Safe Zone\n"
     ]
    }
   ],
   "source": [
    "test.Springate_S_Score()"
   ]
  },
  {
   "cell_type": "code",
   "execution_count": 13,
   "id": "ded8e744",
   "metadata": {},
   "outputs": [],
   "source": [
    "stock = pd.read_csv('Maybank Historical Data.csv')\n",
    "stock_monthly = pd.read_csv('Maybank Historical Data (Monthly).csv')\n",
    "index_monthly = pd.read_csv('FTSE Malaysia KLCI Historical Data (Monthly).csv')"
   ]
  },
  {
   "cell_type": "code",
   "execution_count": 14,
   "id": "fb9ba373",
   "metadata": {},
   "outputs": [
    {
     "name": "stdout",
     "output_type": "stream",
     "text": [
      "Sharpe Ratio: 0.016\n",
      "Return is not sufficient to compensate for the risk, suggesting that the investment may not be worthwhile compared to the risk-free rate.\n",
      "\n",
      "Treynor: 0.717\n",
      "The return is providing a return that exceeds the risk-free rate per unit of market risk.\n"
     ]
    }
   ],
   "source": [
    "test.CAPM(stock, stock_monthly, index_monthly)"
   ]
  }
 ],
 "metadata": {
  "kernelspec": {
   "display_name": "Python 3",
   "language": "python",
   "name": "python3"
  },
  "language_info": {
   "codemirror_mode": {
    "name": "ipython",
    "version": 3
   },
   "file_extension": ".py",
   "mimetype": "text/x-python",
   "name": "python",
   "nbconvert_exporter": "python",
   "pygments_lexer": "ipython3",
   "version": "3.8.8"
  },
  "toc": {
   "base_numbering": 1,
   "nav_menu": {},
   "number_sections": true,
   "sideBar": true,
   "skip_h1_title": false,
   "title_cell": "Table of Contents",
   "title_sidebar": "Contents",
   "toc_cell": true,
   "toc_position": {},
   "toc_section_display": true,
   "toc_window_display": false
  }
 },
 "nbformat": 4,
 "nbformat_minor": 5
}
