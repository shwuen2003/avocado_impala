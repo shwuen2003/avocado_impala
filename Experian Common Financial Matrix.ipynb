{
 "cells": [
  {
   "cell_type": "markdown",
   "id": "f1d5e2f6",
   "metadata": {
    "toc": true
   },
   "source": [
    "<h1>Table of Contents<span class=\"tocSkip\"></span></h1>\n",
    "<div class=\"toc\"><ul class=\"toc-item\"></ul></div>"
   ]
  },
  {
   "cell_type": "code",
   "execution_count": 2,
   "id": "80bb50de",
   "metadata": {},
   "outputs": [],
   "source": [
    "financial_statement = {\n",
    "    'net_income': 5,\n",
    "    'revenue': 2,\n",
    "    'current_assets': 3,\n",
    "    'current_liabilities': 3,\n",
    "    'inventory': 1,\n",
    "    'total_liabilities': 1,\n",
    "    'total_equity': 1,\n",
    "    'total_assets': 10,\n",
    "    'profit_before_tax': 1,\n",
    "    'interest_expense':1,\n",
    "    'shareholders_equity':10,\n",
    "    'capital_expenditures':3,\n",
    "    'earnings_per_share': 0.5\n",
    "}"
   ]
  },
  {
   "cell_type": "code",
   "execution_count": 4,
   "id": "beaebaeb",
   "metadata": {
    "scrolled": true
   },
   "outputs": [],
   "source": [
    "# need the latest price_per_share, total_shares_outstanding, dividend maybe using API??\n",
    "class fundamental_analysis:\n",
    "    def __init__(self, data, price_per_share, total_shares_outstanding, dividend):\n",
    "        self.data = data\n",
    "        self.price_per_share = price_per_share\n",
    "        self.total_shares_outstanding = total_shares_outstanding\n",
    "        self.dividend = dividend\n",
    "        \n",
    "        # Analyze Liquidity\n",
    "        self.current_ratio = self.data['current_assets'] / self.data['current_liabilities']\n",
    "        self.quick_ratio = (self.data['current_assets'] - self.data['inventory'])/ self.data['current_liabilities']\n",
    "        \n",
    "        # Assess Leverage\n",
    "        self.debt_to_equity_ratio = self.data['total_liabilities'] / self.data['total_equity']\n",
    "        self.interest_coverage_ratio = self.data['profit_before_tax'] / self.data['interest_expense']\n",
    "        \n",
    "        # Evaluate Profitability\n",
    "        self.net_profit_margin = self.data['net_income']/self.data['revenue']\n",
    "        self.return_on_assets = self.data['net_income']/self.data['total_assets']\n",
    "        self.return_on_equity = self.data['net_income']/self.data['shareholders_equity']\n",
    "        \n",
    "        # Assess Cash Flow\n",
    "        self.operating_cash_flow = self.data['net_income'] + self.data['interest_expense'] + self.data['current_assets'] - self.data['current_liabilities'] - self.data['inventory']\n",
    "        self.free_cash_flow = self.operating_cash_flow - self.data['capital_expenditures']\n",
    "        \n",
    "        # Examine Solvency\n",
    "        self.debt_to_asset_ratio = self.data['total_liabilities'] / self.data['total_assets']\n",
    "        self.equity_ratio = self.data['total_equity'] / self.data['total_assets']\n",
    "        \n",
    "        # Efficiency Ratio\n",
    "        self.asset_turnover_ratio = self.data['revenue'] / self.data['total_assets']\n",
    "\n",
    "        # Market Valuation Ratios\n",
    "        self.pe_ratio = self.price_per_share / self.data['earnings_per_share']\n",
    "        self.pb_ratio = self.price_per_share * self.total_shares_outstanding / self.data['total_equity']\n",
    "        self.dividend_yield = self.dividend / self.price_per_share"
   ]
  },
  {
   "cell_type": "code",
   "execution_count": 6,
   "id": "3d5b5038",
   "metadata": {},
   "outputs": [],
   "source": [
    "test = fundamental_analysis(financial_statement,price_per_share=1, total_shares_outstanding=100, dividend=0)"
   ]
  },
  {
   "cell_type": "code",
   "execution_count": 8,
   "id": "42852ce3",
   "metadata": {},
   "outputs": [
    {
     "data": {
      "text/plain": [
       "0.0"
      ]
     },
     "execution_count": 8,
     "metadata": {},
     "output_type": "execute_result"
    }
   ],
   "source": [
    "test.dividend_yield"
   ]
  },
  {
   "cell_type": "code",
   "execution_count": null,
   "id": "a80d4d86",
   "metadata": {},
   "outputs": [],
   "source": []
  }
 ],
 "metadata": {
  "kernelspec": {
   "display_name": "Python 3 (ipykernel)",
   "language": "python",
   "name": "python3"
  },
  "language_info": {
   "codemirror_mode": {
    "name": "ipython",
    "version": 3
   },
   "file_extension": ".py",
   "mimetype": "text/x-python",
   "name": "python",
   "nbconvert_exporter": "python",
   "pygments_lexer": "ipython3",
   "version": "3.12.4"
  },
  "toc": {
   "base_numbering": 1,
   "nav_menu": {},
   "number_sections": true,
   "sideBar": true,
   "skip_h1_title": false,
   "title_cell": "Table of Contents",
   "title_sidebar": "Contents",
   "toc_cell": true,
   "toc_position": {},
   "toc_section_display": true,
   "toc_window_display": false
  }
 },
 "nbformat": 4,
 "nbformat_minor": 5
}
