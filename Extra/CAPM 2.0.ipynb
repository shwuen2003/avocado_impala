{
 "cells": [
  {
   "cell_type": "code",
   "execution_count": 18,
   "id": "9a002a30-66fd-482f-b323-ac319b605e27",
   "metadata": {},
   "outputs": [],
   "source": [
    "import yfinance as yf\n",
    "import numpy as np\n",
    "import pandas as pd\n",
    "import matplotlib.pyplot as plt\n",
    "import seaborn as sns"
   ]
  },
  {
   "cell_type": "code",
   "execution_count": 19,
   "id": "2bc3877e-e5c3-48e8-bc11-dca6008fb0aa",
   "metadata": {},
   "outputs": [],
   "source": [
    "tickers = [\n",
    "    'AAL', 'AAPL', 'ALNY', 'AMD', 'AMZN', 'AVPT', 'BA', 'BBIO', 'BLD', 'BYND', \n",
    "    'C', 'CFLT',  'CHWY', 'CLF', 'COST', 'DASH', 'DDD', 'DG', 'DIS', 'DKNG', 'EBS', 'EMXC', 'ESTC', 'FIS',\n",
    "    'FLUT', 'GE', 'GOOGL',  'HD', 'INTC', 'ISRG', 'ITRG', 'JNJ', 'JPM', 'KHC', 'KO', 'KR', 'LGMK', 'LMT', \n",
    "    'LOCO', 'LSCC', 'LUNR', 'MDB', 'META',  'MSFT', 'MSTR', 'NFLX', 'NKE', 'NVAX', 'NVDA', 'PEP', 'PFE', 'PGR',\n",
    "    'PLUG', 'PTON', 'PYPL', 'QCOM', 'RNLX', 'ROKU',  'SBUX', 'SCHR', 'SPG', 'SPOT', 'SPWR', 'SQ', 'SWKS', \n",
    "    'T', 'TGT', 'TPR', 'TSLA', 'ULTA', 'V', 'VZ', 'WFC',  'WMT', 'XOM', 'ZM', 'DIS', 'ABNB','CRWD', 'WBD', 'TMUS'\n",
    "]\n",
    "\n",
    "markets = [\n",
    "    '^IXIC', '^NYA', '^GSPC'\n",
    "]"
   ]
  },
  {
   "cell_type": "code",
   "execution_count": 20,
   "id": "d2d33a52-6d7d-4643-9ba5-2c3638cb614b",
   "metadata": {},
   "outputs": [
    {
     "name": "stderr",
     "output_type": "stream",
     "text": [
      "[*********************100%%**********************]  80 of 80 completed\n",
      "[*********************100%%**********************]  3 of 3 completed\n",
      "[*********************100%%**********************]  80 of 80 completed\n",
      "[*********************100%%**********************]  3 of 3 completed\n"
     ]
    }
   ],
   "source": [
    "data = yf.download(tickers, start=\"2021-01-01\", end=\"2024-01-01\", group_by=\"ticker\")\n",
    "\n",
    "# Extract the close prices\n",
    "t_close = pd.DataFrame({ticker: data[ticker]['Close'] for ticker in tickers})\n",
    "\n",
    "data = yf.download(markets, start=\"2021-01-01\", end=\"2024-01-01\", group_by=\"ticker\")\n",
    "\n",
    "# Extract the close prices\n",
    "m_close = pd.DataFrame({ticker: data[ticker]['Close'] for ticker in markets})\n",
    "\n",
    "data = yf.download(tickers, start=\"2021-01-01\", end=\"2024-01-01\", group_by=\"ticker\", interval= '1mo')\n",
    "\n",
    "# Extract the close prices\n",
    "t_close_2 = pd.DataFrame({ticker: data[ticker]['Close'] for ticker in tickers})\n",
    "\n",
    "data = yf.download(markets, start=\"2021-01-01\", end=\"2024-01-01\", group_by=\"ticker\", interval = '1mo')\n",
    "\n",
    "# Extract the close prices\n",
    "m_close_2 = pd.DataFrame({ticker: data[ticker]['Close'] for ticker in markets})"
   ]
  },
  {
   "cell_type": "code",
   "execution_count": 21,
   "id": "9a53b2ea-d2bd-4ed4-ab44-6af0119fb626",
   "metadata": {},
   "outputs": [
    {
     "name": "stdout",
     "output_type": "stream",
     "text": [
      "753\n"
     ]
    },
    {
     "data": {
      "text/plain": [
       "752"
      ]
     },
     "execution_count": 21,
     "metadata": {},
     "output_type": "execute_result"
    }
   ],
   "source": [
    "t_close\n",
    "print(len(t_close))\n",
    "t_change = t_close.diff()\n",
    "t_change = t_change.drop(t_close.index[0])\n",
    "t_change = t_change.fillna(0)\n",
    "#print(t_change.isna().sum())\n",
    "len(t_change)"
   ]
  },
  {
   "cell_type": "code",
   "execution_count": 22,
   "id": "65f3c790-1162-4893-abdf-551c8c81ef49",
   "metadata": {},
   "outputs": [],
   "source": [
    "t_close.to_csv('Stocks Dataset.csv', index = False)\n",
    "m_close.to_csv('Market Dataset.csv' , index = False)"
   ]
  },
  {
   "cell_type": "code",
   "execution_count": 23,
   "id": "741139f4-25c7-4446-b07e-9c36fa2d048d",
   "metadata": {},
   "outputs": [
    {
     "data": {
      "text/plain": [
       "35"
      ]
     },
     "execution_count": 23,
     "metadata": {},
     "output_type": "execute_result"
    }
   ],
   "source": [
    "m_change_2 = m_close_2.diff()\n",
    "m_change_2 = m_change_2.dropna()\n",
    "len(m_change_2)"
   ]
  },
  {
   "cell_type": "code",
   "execution_count": 24,
   "id": "0eb90b22-c4a6-4cdb-aa50-030e62e7f6eb",
   "metadata": {},
   "outputs": [],
   "source": [
    "t_col = [i for i in t_close.columns if i != 'Date']\n",
    "m_col = [i for i in m_close.columns if i != 'Date']"
   ]
  },
  {
   "cell_type": "code",
   "execution_count": 25,
   "id": "0a542485-0f2e-442f-a325-438d1cc6a7dc",
   "metadata": {},
   "outputs": [],
   "source": [
    "m_dic = {}\n",
    "for i in m_col: \n",
    "    mean_r = m_change_2[i].mean()\n",
    "    std2 = m_change_2[i].var()\n",
    "    lp = m_close_2[i].iloc[-1]\n",
    "    m_dic[i] = [\n",
    "        float(lp), float(mean_r), float(std2)\n",
    "    ]"
   ]
  },
  {
   "cell_type": "code",
   "execution_count": 26,
   "id": "1e0b7d2d-cb02-4fea-a9bb-1302d80dc90a",
   "metadata": {},
   "outputs": [],
   "source": [
    "t_dic = {ticker: [] for ticker in tickers}\n",
    "t_dic_df = {\n",
    "    'ticker': [],               # List of stock tickers\n",
    "    'latest_price': [],          # Latest price of the stock\n",
    "    'expected_return': [],       # Expected return of the stock\n",
    "    'daily_variance': [],        # Daily variance of the stock returns\n",
    "    'monthly_beta_nasdaq': [],    # Annual beta with respect to NASDAQ\n",
    "    'monthly_beta_nyse': [],      # Annual beta with respect to NYSE\n",
    "    'monthly_beta_snp': [],       # Annual beta with respect to S&P\n",
    "    'monthly_sharpe': [],         # Annual Sharpe ratio of the stock\n",
    "    'treynor_nasdaq': [],        # Treynor ratio with respect to NASDAQ beta\n",
    "    'treynor_nyse': [],          # Treynor ratio with respect to NYSE beta\n",
    "    'treynor_snp': [],           # Treynor ratio with respect to S&P beta\n",
    "    'monthly_var' : []\n",
    "}"
   ]
  },
  {
   "cell_type": "code",
   "execution_count": 27,
   "id": "d899cfcf-e750-40e1-a0e0-a2b1136aef5d",
   "metadata": {},
   "outputs": [],
   "source": [
    "risk_free = 0.0365 #10 year tbil rate "
   ]
  },
  {
   "cell_type": "code",
   "execution_count": 28,
   "id": "85563e6b-1492-4e36-94cf-992adb1ca1a4",
   "metadata": {},
   "outputs": [],
   "source": [
    "for i in t_col:\n",
    "    tick = i\n",
    "    mean_r = t_change[i].mean()\n",
    "    std2 = t_change[i].var()\n",
    "    dev = t_change[i].std()\n",
    "    lp = t_close[i].iloc[-1]\n",
    "\n",
    "    t_dic[i].append(lp)\n",
    "    t_dic[i].append(mean_r)\n",
    "    t_dic[i].append(std2)\n",
    "\n",
    "    t_dic_df['ticker'].append(tick)\n",
    "    t_dic_df['latest_price'].append(lp)\n",
    "    t_dic_df['expected_return'].append(mean_r)\n",
    "    t_dic_df['daily_variance'].append(std2)"
   ]
  },
  {
   "cell_type": "code",
   "execution_count": 29,
   "id": "a97d4966-8bcf-4055-93ad-aa204ef25bee",
   "metadata": {},
   "outputs": [
    {
     "name": "stdout",
     "output_type": "stream",
     "text": [
      "36\n"
     ]
    },
    {
     "data": {
      "text/plain": [
       "35"
      ]
     },
     "execution_count": 29,
     "metadata": {},
     "output_type": "execute_result"
    }
   ],
   "source": [
    "print(len(t_close_2))\n",
    "t_change_2 = t_close_2.diff()\n",
    "t_change_2 = t_close_2.drop(t_close_2.index[0])\n",
    "t_change_2 = t_change_2.fillna(0)\n",
    "#print(t_change.isna().sum())\n",
    "len(t_change_2)"
   ]
  },
  {
   "cell_type": "code",
   "execution_count": 30,
   "id": "7e34d96a-2c01-4a26-ad43-12416f9c9321",
   "metadata": {},
   "outputs": [],
   "source": [
    "for i in t_col:\n",
    "    mean_r = t_change_2[i].mean()\n",
    "    std2 = t_change_2[i].var()\n",
    "    dev = t_change_2[i].std()\n",
    "    \n",
    "    nasdaq_m_sd2 = m_dic['^IXIC'][2]\n",
    "    nyse_m_sd2 = m_dic['^NYA'][2]\n",
    "    snp_m_sd2 = m_dic['^GSPC'][2]\n",
    "\n",
    "    covar_nasdap = np.cov(m_change_2['^IXIC'],t_change_2[i])\n",
    "    covar_nyse = np.cov(m_change_2['^NYA'], t_change_2[i])\n",
    "    covar_snp = np.cov(m_change_2['^GSPC'], t_change_2[i])\n",
    "\n",
    "    beta_nasdap = (covar_nasdap[0][1]) / nasdaq_m_sd2\n",
    "    beta_nyse = (covar_nyse[0][1]) / nyse_m_sd2\n",
    "    beta_snp = (covar_snp[0][1]) / snp_m_sd2\n",
    "\n",
    "    sharpe_ratio = (mean_r - risk_free) / dev\n",
    "\n",
    "    treynor_nasdap = (mean_r - risk_free) / beta_nasdap\n",
    "    treynor_nyse = (mean_r - risk_free) / beta_nyse\n",
    "    treynor_snp = (mean_r - risk_free) / beta_snp\n",
    "\n",
    "    t_dic[i].append(beta_nasdap)\n",
    "    t_dic[i].append(beta_nyse)\n",
    "    t_dic[i].append(beta_snp)\n",
    "    t_dic[i].append(sharpe_ratio)\n",
    "    t_dic[i].append(treynor_nasdap)\n",
    "    t_dic[i].append(treynor_nyse)\n",
    "    t_dic[i].append(treynor_snp)\n",
    "    t_dic[i].append(std2)\n",
    "\n",
    "    # Append the monthly betas\n",
    "    t_dic_df['monthly_beta_nasdaq'].append(beta_nasdap)\n",
    "    t_dic_df['monthly_beta_nyse'].append(beta_nyse)\n",
    "    t_dic_df['monthly_beta_snp'].append(beta_snp)\n",
    "    \n",
    "    # Append the Sharpe ratio\n",
    "    t_dic_df['monthly_sharpe'].append(sharpe_ratio)\n",
    "    \n",
    "    # Append the Treynor ratios\n",
    "    t_dic_df['treynor_nasdaq'].append(treynor_nasdap)\n",
    "    t_dic_df['treynor_nyse'].append(treynor_nyse)\n",
    "    t_dic_df['treynor_snp'].append(treynor_snp)\n",
    "    t_dic_df['monthly_var'].append(std2)"
   ]
  },
  {
   "cell_type": "code",
   "execution_count": 31,
   "id": "c2fdaa86-b55a-48e9-8ec0-c816e5b94a2d",
   "metadata": {},
   "outputs": [],
   "source": [
    "s_df = pd.DataFrame(t_dic_df)"
   ]
  },
  {
   "cell_type": "code",
   "execution_count": 32,
   "id": "d2d335ed-48ce-463c-bd82-a20b27d314d8",
   "metadata": {},
   "outputs": [],
   "source": [
    "s_df.to_csv('CAPM stock.csv', index = False)"
   ]
  },
  {
   "cell_type": "code",
   "execution_count": 33,
   "id": "1368f227-fdde-4499-aa0f-f56acecfa1da",
   "metadata": {},
   "outputs": [],
   "source": [
    "s_dic = pd.DataFrame(t_dic)"
   ]
  },
  {
   "cell_type": "code",
   "execution_count": 34,
   "id": "053912eb-b71d-4c7d-a0fd-ff14881077af",
   "metadata": {},
   "outputs": [],
   "source": [
    "s_dic.to_csv('CAPM dic.csv', index = False)"
   ]
  },
  {
   "cell_type": "code",
   "execution_count": null,
   "id": "a0f092a6-1818-4d8c-b854-52fc23b53993",
   "metadata": {},
   "outputs": [],
   "source": []
  }
 ],
 "metadata": {
  "kernelspec": {
   "display_name": "Python 3 (ipykernel)",
   "language": "python",
   "name": "python3"
  },
  "language_info": {
   "codemirror_mode": {
    "name": "ipython",
    "version": 3
   },
   "file_extension": ".py",
   "mimetype": "text/x-python",
   "name": "python",
   "nbconvert_exporter": "python",
   "pygments_lexer": "ipython3",
   "version": "3.9.19"
  }
 },
 "nbformat": 4,
 "nbformat_minor": 5
}
