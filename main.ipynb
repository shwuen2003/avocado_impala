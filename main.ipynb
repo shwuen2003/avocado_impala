{
 "cells": [
  {
   "cell_type": "code",
   "execution_count": 2,
   "id": "abdbc609-48d9-45c7-8d5a-d35412c38514",
   "metadata": {},
   "outputs": [
    {
     "data": {
      "text/plain": [
       "True"
      ]
     },
     "execution_count": 2,
     "metadata": {},
     "output_type": "execute_result"
    }
   ],
   "source": [
    "import os\n",
    "from dotenv import load_dotenv\n",
    "from langchain_openai import ChatOpenAI\n",
    "import requests\n",
    "import json\n",
    "from langchain_core.prompts import (\n",
    "    ChatPromptTemplate,\n",
    "    HumanMessagePromptTemplate,\n",
    "    MessagesPlaceholder,\n",
    ")\n",
    "from langchain import PromptTemplate\n",
    "from groq import Groq\n",
    "import PyPDF2\n",
    "from openai import AzureOpenAI\n",
    "import openai\n",
    "from langchain_openai import AzureOpenAIEmbeddings\n",
    "from langchain_core.vectorstores import InMemoryVectorStore\n",
    "\n",
    "load_dotenv()"
   ]
  },
  {
   "cell_type": "code",
   "execution_count": 66,
   "id": "25d26c8b-434d-49f7-be20-970327dc5943",
   "metadata": {},
   "outputs": [],
   "source": [
    "# # Define the LangChain prompt template with placeholders\n",
    "# template = \"\"\"\n",
    "# By using the context below, please explain the additional market condition and sentiment that would affect this company specifically to this segment of the busisness.\n",
    "\n",
    "# Context:\n",
    "# {context}\n",
    "\n",
    "# Please generate the response.\n",
    "# \"\"\"\n",
    "\n",
    "# # Create the PromptTemplate\n",
    "# prompt_template = PromptTemplate(\n",
    "#     input_variables=[\"context\"],\n",
    "#     template=template,\n",
    "# )\n",
    "\n",
    "# # Example old and new code snippets\n",
    "# # context = \"A negative industrial outlook is support by reason of the demand of glove increase during the pandemic. As more glove is needed during the pandemic which cause the price and earning of Top Glove to Increase. As evidence, by company manager Lee Kim Meow stated that the goods are all sold out to their distributors and customers even before the supplies have arrived at Top-Glove warehouse. As the vaccination plan all over the world is being ramp up and being administer to more and more people which mean that the Covid-19 pandemic is being more and more in control. This would lead to decrease in the earning for Top-glove back to its average earnings before the pandemic. According to Top-Glove presentation in 2018 (refer to chart 1), Top Glove key market include Europe, North America and Asia make up Top Glove sales by 31%, 25% and 23% respectively. As USA have a sharp decrease in Covid-19 cases as of today using a 7 day average USA have around 12k of new Covid-19 cases while they are administering the vaccine at the doses per day of around 1 million. This means that the vaccine is being administer at a rate that the virus is infecting people slower than the vaccine is being administer.Furthermore in Europe, Germany is also show that the Covid-19 cases have been similar to the flatten peak from the highest at 15399 new cases at 25 of April 2021 to 903 at 8 of July 2021which means they overcome their second wave with the vaccine being administer in Germany at a rate about 600k to 800k per day . Meanwhile in China the curve have always been flatten since March 2020 with the past 7 days average have 20 daily cases while daily doses of vaccination being administer by China is around 15 million to 20 million a day.  \"\n",
    "# context= \"Notable shift in performance in 2023. While revenue declined due to the completion of major infrastructure projects in 2022, profits grew, driven mainly by the LRT 3 rail construction project. The Division maintained a strong position with a robust client order book, reflecting its leading position in the industry\"\n",
    "\n",
    "# # Format the prompt with actual data using LangChain\n",
    "# formatted_prompt = prompt_template.format(context=context)\n",
    "\n",
    "# # Define the system prompt for setting the role\n",
    "# system_prompt = \"You are a financial analyst, your objective is to determine good and bad prospect of a company from it's financial statement and justify why. \""
   ]
  },
  {
   "cell_type": "code",
   "execution_count": 67,
   "id": "150bafc5-292b-4374-91a1-2b99c2c78dff",
   "metadata": {},
   "outputs": [],
   "source": [
    "# client = Groq(\n",
    "#     api_key=os.getenv(\"GROQ_LLM_API\"),\n",
    "# )\n",
    "\n",
    "# chat_completion = client.chat.completions.create(\n",
    "#     messages=[\n",
    "#         {\"role\": \"system\", \"content\": system_prompt},\n",
    "#         {\"role\": \"user\", \"content\": formatted_prompt},\n",
    "#     ],\n",
    "#     model=\"llama-3.1-70b-versatile\",\n",
    "# )\n",
    "\n",
    "# print(chat_completion.choices[0].message.content)"
   ]
  },
  {
   "cell_type": "code",
   "execution_count": 35,
   "id": "fd37576a-b53b-40fd-b2b7-7eb20ba07fac",
   "metadata": {},
   "outputs": [],
   "source": [
    "from pinecone import Pinecone\n",
    "\n",
    "# initialize connection to pinecone (get API key at app.pinecone.io)\n",
    "api_key = os.getenv(\"PINECONE_API_KEY\")\n",
    "\n",
    "# configure client\n",
    "pc = Pinecone(api_key=api_key)"
   ]
  },
  {
   "cell_type": "code",
   "execution_count": 52,
   "id": "161fa55f-5858-4aa5-8171-e3da393e7bfe",
   "metadata": {},
   "outputs": [],
   "source": [
    "from pinecone import ServerlessSpec\n",
    "\n",
    "spec = ServerlessSpec(\n",
    "    cloud=\"aws\", region=\"us-east-1\"\n",
    ")"
   ]
  },
  {
   "cell_type": "code",
   "execution_count": 53,
   "id": "43a28c9f-ddfc-485d-9340-8429f0e3b928",
   "metadata": {},
   "outputs": [
    {
     "data": {
      "text/plain": [
       "{'dimension': 1536,\n",
       " 'index_fullness': 0.0,\n",
       " 'namespaces': {'': {'vector_count': 4}},\n",
       " 'total_vector_count': 4}"
      ]
     },
     "execution_count": 53,
     "metadata": {},
     "output_type": "execute_result"
    }
   ],
   "source": [
    "import time\n",
    "\n",
    "index_name = 'avocado-rag'\n",
    "existing_indexes = [\n",
    "    index_info[\"name\"] for index_info in pc.list_indexes()\n",
    "]\n",
    "\n",
    "# check if index already exists (it shouldn't if this is first time)\n",
    "if index_name not in existing_indexes:\n",
    "    # if does not exist, create index\n",
    "    pc.create_index(\n",
    "        index_name,\n",
    "        dimension=1536,  # dimensionality of ada 002\n",
    "        metric='dotproduct',\n",
    "        spec=spec\n",
    "    )\n",
    "    # wait for index to be initialized\n",
    "    while not pc.describe_index(index_name).status['ready']:\n",
    "        time.sleep(1)\n",
    "\n",
    "# connect to index\n",
    "index = pc.Index(index_name)\n",
    "time.sleep(1)\n",
    "# view index stats\n",
    "index.describe_index_stats()"
   ]
  },
  {
   "cell_type": "code",
   "execution_count": 38,
   "id": "d5b270c2-ce90-499b-8418-ddecae092bde",
   "metadata": {},
   "outputs": [],
   "source": [
    "embeddings = AzureOpenAIEmbeddings(\n",
    "    model=\"text-embedding-ada-002\",\n",
    "    azure_endpoint=\"https://minihackathon03.openai.azure.com/\",\n",
    "    api_key=os.getenv(\"OPENAI_API_KEY\"),\n",
    "    openai_api_version=\"2023-05-15\"\n",
    ")"
   ]
  },
  {
   "cell_type": "markdown",
   "id": "702bbd22-d2e3-4489-b370-70de2729c0fc",
   "metadata": {},
   "source": [
    "### RAG"
   ]
  },
  {
   "cell_type": "code",
   "execution_count": 39,
   "id": "26e2d542-2bbd-434e-9362-830cf855bf14",
   "metadata": {},
   "outputs": [],
   "source": [
    "import fitz  # PyMuPDF"
   ]
  },
  {
   "cell_type": "code",
   "execution_count": 46,
   "id": "e9cf3e75-0d1d-47d1-a56f-763ed6f989c9",
   "metadata": {},
   "outputs": [],
   "source": [
    "def extract_pages_with_keywords(pdf_path, keywords):\n",
    "    # Open the PDF file\n",
    "    document = fitz.open(pdf_path)\n",
    "    \n",
    "    # Dictionary to store the page content that contains the keywords\n",
    "    pages_with_content = {}\n",
    "    \n",
    "    # Iterate through each page in the document\n",
    "    for page_number in range(len(document)):\n",
    "        page = document[page_number]\n",
    "        text = page.get_text()  # Extract text from the page\n",
    "        \n",
    "        # Check if any of the keywords are in the page text\n",
    "        if any(keyword.lower() in text.lower() for keyword in keywords):\n",
    "            pages_with_content[page_number + 1] = text  # Store 1-based page numbers and content\n",
    "            \n",
    "    document.close()  # Close the PDF document\n",
    "    return pages_with_content\n",
    "\n",
    "# Example usage\n",
    "paths=[]\n",
    "\n",
    "pdf_path = \"Datasets/maxis-2023.pdf\"\n",
    "keywords = [\"Business Segment\", \"Operation Segment\"]"
   ]
  },
  {
   "cell_type": "code",
   "execution_count": 92,
   "id": "e8f14254-a7e7-402f-83b5-46807295db93",
   "metadata": {},
   "outputs": [],
   "source": [
    "def store_content_in_pinecone(company_name, extracted_pages):\n",
    "    for page_number, content in extracted_pages.items():\n",
    "        embedding = embeddings.embed_query(content)\n",
    "        # Upsert to Pinecone\n",
    "        index.upsert(vectors=[\n",
    "            {\n",
    "                \"id\": f\"{company_name}_{page_number}\",\n",
    "                \"values\": embedding,\n",
    "                \"metadata\": {\n",
    "                    \"company_name\": company_name,\n",
    "                    \"content\": content,\n",
    "                    \"page_number\": page_number,\n",
    "                }\n",
    "            }\n",
    "        ])\n",
    "\n",
    "extracted_pages = extract_pages_with_keywords(pdf_path, keywords)\n",
    "\n",
    "# Store content in Pinecone\n",
    "store_content_in_pinecone(\"Maxis\", extracted_pages)\n",
    "# print(f\"Extracted pages: {extracted_pages}\") "
   ]
  },
  {
   "cell_type": "code",
   "execution_count": 95,
   "id": "ad43ef2d-7e70-41c5-b490-bec0c3d30fd0",
   "metadata": {},
   "outputs": [],
   "source": [
    "# def query_pinecone(company_name, query):\n",
    "#     query_embedding = embeddings.embed_query(query)\n",
    "\n",
    "#     # Query Pinecone for the top K matches using keyword arguments\n",
    "#     results = index.query(\n",
    "#         vector=query_embedding, \n",
    "#         top_k=5,                  \n",
    "#         filter={\"company_name\": company_name} \n",
    "#     )\n",
    "\n",
    "#     return results\n",
    "\n",
    "# # Example query\n",
    "# query_result = query_pinecone(\"Maxis\", \"What is their business segment\")\n",
    "# for match in query_result['matches']:\n",
    "#     print(f\"ID: {match['id']}\")\n",
    "#     # print(f\"Score: {match['score']}\")\n",
    "\n",
    "def query_pinecone(company_name, query):\n",
    "    query_embedding = embeddings.embed_query(query)\n",
    "\n",
    "    results = index.query(\n",
    "        vector=query_embedding, \n",
    "        top_k=5,\n",
    "        filter={\"company_name\": company_name},\n",
    "        include_metadata=True\n",
    "    )\n",
    "\n",
    "    # Print raw query result\n",
    "    # print(f\"Raw Query Result: {results}\")\n",
    "    \n",
    "    return results\n",
    "\n",
    "# Example query\n",
    "query_result = query_pinecone(\"Maxis\", \"What is their business segment\")\n",
    "# for match in query_result['matches']:\n",
    "#     print(match)"
   ]
  },
  {
   "cell_type": "code",
   "execution_count": 102,
   "id": "054b382a-7270-4cc9-81db-e3fa1e08c124",
   "metadata": {},
   "outputs": [],
   "source": [
    "extracted_contexts = [match['metadata']['content'] for match in query_result['matches']]\n",
    "# match['metadata']['content']\n",
    "# for x in extracted_contexts:\n",
    "#     print(x)"
   ]
  },
  {
   "cell_type": "code",
   "execution_count": 109,
   "id": "992c08f5-053d-4d41-9e19-e1643a8fa3c7",
   "metadata": {},
   "outputs": [
    {
     "name": "stdout",
     "output_type": "stream",
     "text": [
      "4\n"
     ]
    }
   ],
   "source": [
    "print(len(extracted_contexts))"
   ]
  },
  {
   "cell_type": "code",
   "execution_count": 107,
   "id": "7cadb61a-a3d0-4200-aa91-60e4290e9aad",
   "metadata": {},
   "outputs": [],
   "source": [
    "# Define the system prompt for setting the role\n",
    "system_prompt = \"You are a financial analyst, your objective is to determine good and bad prospect of a company from it's financial statement and justify why.\"\n",
    "\n",
    "def prompt_template(extracted):\n",
    "    # Define the LangChain prompt template with placeholders\n",
    "    template = \"\"\"\n",
    "    By using the context below, please summarise the business segment of this comapany in a short paragraph.\n",
    "    \n",
    "    Context:\n",
    "    {context}\n",
    "    \n",
    "    Please generate the response.\n",
    "    \"\"\"\n",
    "    \n",
    "    # Create the PromptTemplate\n",
    "    prompt_template = PromptTemplate(\n",
    "        input_variables=[\"context\"],\n",
    "        template=template,\n",
    "    )\n",
    "    \n",
    "    # Format the prompt with actual data using LangChain\n",
    "    formatted_prompt = prompt_template.format(context=extracted)\n",
    "    return formatted_prompt"
   ]
  },
  {
   "cell_type": "code",
   "execution_count": 104,
   "id": "bfa07941-6bbc-4d85-9d9d-7908db127d6c",
   "metadata": {},
   "outputs": [],
   "source": [
    "client = AzureOpenAI(\n",
    "    api_key=\"2ee9560e08aa4523af24fbd802fe688e\",  \n",
    "    api_version=\"2024-08-01-preview\",\n",
    "    azure_endpoint =\"https://minihackathon03.openai.azure.com/openai/deployments/gpt-4/chat/completions?api-version=2024-08-01-preview\"\n",
    ")"
   ]
  },
  {
   "cell_type": "code",
   "execution_count": 105,
   "id": "ef8f2c02-a23c-49ab-b674-6b0c5a525362",
   "metadata": {},
   "outputs": [],
   "source": [
    "def prompt(system_prompt, formatted):\n",
    "    response = client.chat.completions.create(\n",
    "            model=\"GPT-4o\",\n",
    "            messages=[\n",
    "                {\"role\": \"system\", \"content\": system_prompt },\n",
    "                {\"role\": \"user\", \"content\": formatted}\n",
    "            ]\n",
    "        )\n",
    "    return response"
   ]
  },
  {
   "cell_type": "code",
   "execution_count": 111,
   "id": "1d1b3787-99b7-4085-b15d-557a082ba7dc",
   "metadata": {},
   "outputs": [
    {
     "name": "stdout",
     "output_type": "stream",
     "text": [
      "hey:  This company is primarily involved in providing digital solutions and accelerating digitalisation for Malaysia's Small and Medium Enterprises (SMEs). They partner with state governments and other entities to create digital ecosystems beneficial for the local communities and micro-SMEs. Their focus also includes next-generation connectivity (with their Hybrid SD-WAN and 5G initiatives) that renders secure and reliable operations for their clients. They have collaborated with various entities, such as petrol stations and plantation networks, providing their advanced IP transmission and network solutions to improve operational efficiency.\n",
      "\n",
      "In addition, this company is committed to driving e-mobility solutions, notably through the provision of IoT Connectivity Platform for Electric Vehicles. Furthermore, they establish innovation centers that foster digital innovation and transformation for businesses. All these initiatives are geared towards their goal of bridging the digital divide among Malaysian businesses and enhancing customer experiences. Their outlook includes sustainable growth, enhancement of their connectivity offerings, development of appropriate ICT solutions with 5G leverage, superior end-to-end customer experiences, and digital simplification for operating model optimization and cost reduction.\n",
      "hey:  Based on the Integrated Annual Report 2023, Maxis is a telecommunications company that is navigating risks and opportunities from both internal and external factors, including competition, the implementation of 5G technology, and global supply chain disruptions. They manage these challenges by constantly updating their organisational structure, policies, and technology, and ensuring regulatory compliance. Significant risks include further competition from emerging players, risks related to new businesses, and complications from 5G network ownership.\n",
      "\n",
      "Maxis also grasps new opportunities by offering new services such as 5G, Fibre, IoT, and developing new products and services, as well as diversifying into non-traditional business segments like broadband and enterprise business. They focus on customer experience as a service differentiator and continuously innovate their processes, products and services. They are managing emerging competition with strategic market engagement and by emphasizing their aspiration to be the leading integrated telco in Malaysia.\n",
      "hey:  The company, Maxis, is engaged in providing innovative digital solutions for businesses, focusing on digital transformation, connectivity solutions, IoT services, and cloud services. They emphasize the importance of security in digital operations thereby assisting their customers secure their infrastructure, data, and assets. Maxis is also committed to aiding Small and Medium-Sized Enterprises (SMEs) in their digitalization journey, adding significantly to Malaysia’s GDP. The company is actively involved in collaborations with different partners such as Telekom Malaysia, and property developers like Ideal Property Group, to provide essential services such as high-speed broadband and fiber connectivity for commercial and residential projects. Maxis is also venturing into smart agricultural solutions, partnering with the Malaysian Agricultural Research and Development Institute (MARDI) to co-develop solutions for the agrifood sector. Their objective is continuous growth and technology advancement through strategic partnerships and industry collaborations.\n",
      "hey:  The company operates in a challenging economic environment, marked by slower global trade, global tech downcycle, and tighter monetary policies, all of which may impact economic growth and affect consumer purchasing power and corporate spending. Geopolitical tension affects supply and demand equilibrium. To mitigate these risks, the company has positioned itself as a leading brand, minimized the economic impact on businesses and consumers, and accelerated cost optimization programs. \n",
      "\n",
      "The company also faces challenges in recruiting, developing, and training the best talents for new business segments, making specialized skills for digital transformation scarce. It is attempting to remedy this through leadership succession plans, resource optimization, talent retention strategies, and continuous capability building.\n",
      "\n",
      "In terms of regulatory risk, the company is in a sector where it must respond to new or revised regulations and changes in the political landscape. The regulated spectrum resources are scarce and critical for competitiveness, growth, and cost strategies. The company has decided to closely monitor these developments and engage with the relevant stakeholders to remain responsive, agile, and compliant.\n"
     ]
    }
   ],
   "source": [
    "templates= []\n",
    "responses = []\n",
    "for extracted in extracted_contexts:\n",
    "    template = prompt_template(extracted)\n",
    "    templates.append(template)\n",
    "\n",
    "for template in templates:\n",
    "    response = prompt(system_prompt,template)\n",
    "    responses.append(response)\n",
    "    print(\"hey: \", response.choices[0].message.content)"
   ]
  },
  {
   "cell_type": "code",
   "execution_count": 113,
   "id": "9dc6d944-3d0c-4590-a2b3-048b7c979c89",
   "metadata": {},
   "outputs": [],
   "source": [
    "def prompt_template2(responses):\n",
    "    # Define the LangChain prompt template with placeholders\n",
    "    template = \"\"\"\n",
    "    By using the context below, please combine and summarise the business segment of this comapany in a concise and clear short paragraph.\n",
    "    \n",
    "    Context:\n",
    "    {responses}\n",
    "    \n",
    "    Please generate the response.\n",
    "    \"\"\"\n",
    "    \n",
    "    # Create the PromptTemplate\n",
    "    prompt_template = PromptTemplate(\n",
    "        input_variables=[\"responses\"],\n",
    "        template=template,\n",
    "    )\n",
    "    \n",
    "    # Format the prompt with actual data using LangChain\n",
    "    combined_prompt = prompt_template.format(responses=responses)\n",
    "    return combined_prompt\n",
    "\n",
    "combined_prompt = prompt_template2(responses)"
   ]
  },
  {
   "cell_type": "code",
   "execution_count": 115,
   "id": "e11fc944-7cbb-4c8c-89df-2ad0667c6b44",
   "metadata": {},
   "outputs": [],
   "source": [
    "combined_response= prompt(system_prompt,combined_prompt)"
   ]
  },
  {
   "cell_type": "code",
   "execution_count": 116,
   "id": "b92204ed-524b-455c-b7bc-02f11e04a301",
   "metadata": {},
   "outputs": [
    {
     "name": "stdout",
     "output_type": "stream",
     "text": [
      "Maxis is a leading telecommunications company in Malaysia that is heavily invested in driving digital solutions and digitalisation for Small and Medium Enterprises (SMEs). The company provides advanced IP transmission, network solutions, and initiates 5G services to enhance operational efficiency of businesses. It also promotes IoT services, developing an IoT Connectivity Platform for Electric Vehicles. Additionally, Maxis has diversified into non-traditional segments like broadband and enterprise business. The company secures partnerships aimed at strengthening its hold on the market, thus collaborating with entities like petrol stations, plantation networks, the Malaysian Agricultural Research and Development Institute (MARDI), and property developers to facilitate higher speed broadband and fiber connectivity for various projects. Despite the challenging economic climate and a regulatory landscape that may pose potential risks, Maxis continues to strategize on enhancing their brand, minimizing the economic impact on businesses and consumers, and driving cost optimisation. They also focus on talent acquisition, retention, and leadership succession planning to equip themselves with skills essential for digital transformation. Their long-term goal includes a robust digital ecosystem that caters to the local communities, SMEs and effectively bridges the digital divide among Malaysian businesses.\n",
      "\n"
     ]
    }
   ],
   "source": [
    "print(combined_response.choices[0].message.content)"
   ]
  },
  {
   "cell_type": "code",
   "execution_count": null,
   "id": "beea8bfb-7a2b-4221-aac3-f70ab28e7fb6",
   "metadata": {},
   "outputs": [],
   "source": []
  }
 ],
 "metadata": {
  "kernelspec": {
   "display_name": "Python 3 (ipykernel)",
   "language": "python",
   "name": "python3"
  },
  "language_info": {
   "codemirror_mode": {
    "name": "ipython",
    "version": 3
   },
   "file_extension": ".py",
   "mimetype": "text/x-python",
   "name": "python",
   "nbconvert_exporter": "python",
   "pygments_lexer": "ipython3",
   "version": "3.12.4"
  }
 },
 "nbformat": 4,
 "nbformat_minor": 5
}
