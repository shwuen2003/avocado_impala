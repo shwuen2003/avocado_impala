{
 "cells": [
  {
   "cell_type": "code",
   "execution_count": 2,
   "id": "abdbc609-48d9-45c7-8d5a-d35412c38514",
   "metadata": {},
   "outputs": [
    {
     "data": {
      "text/plain": [
       "True"
      ]
     },
     "execution_count": 2,
     "metadata": {},
     "output_type": "execute_result"
    }
   ],
   "source": [
    "import os\n",
    "from dotenv import load_dotenv\n",
    "from langchain_openai import ChatOpenAI\n",
    "from openai import OpenAI\n",
    "import requests\n",
    "import json\n",
    "from langchain_core.prompts import (\n",
    "    ChatPromptTemplate,\n",
    "    HumanMessagePromptTemplate,\n",
    "    MessagesPlaceholder,\n",
    ")\n",
    "from langchain import PromptTemplate\n",
    "from groq import Groq\n",
    "\n",
    "load_dotenv()"
   ]
  },
  {
   "cell_type": "code",
   "execution_count": 3,
   "id": "25d26c8b-434d-49f7-be20-970327dc5943",
   "metadata": {},
   "outputs": [],
   "source": [
    "# Define the LangChain prompt template with placeholders\n",
    "template = \"\"\"\n",
    "By using the context below, please explain the additional market condition and sentiment that would affect this company specifically to this segment of the busisness.\n",
    "\n",
    "Context:\n",
    "{context}\n",
    "\n",
    "Please generate the response.\n",
    "\"\"\"\n",
    "\n",
    "# Create the PromptTemplate\n",
    "prompt_template = PromptTemplate(\n",
    "    input_variables=[\"context\"],\n",
    "    template=template,\n",
    ")\n",
    "\n",
    "# Example old and new code snippets\n",
    "# context = \"A negative industrial outlook is support by reason of the demand of glove increase during the pandemic. As more glove is needed during the pandemic which cause the price and earning of Top Glove to Increase. As evidence, by company manager Lee Kim Meow stated that the goods are all sold out to their distributors and customers even before the supplies have arrived at Top-Glove warehouse. As the vaccination plan all over the world is being ramp up and being administer to more and more people which mean that the Covid-19 pandemic is being more and more in control. This would lead to decrease in the earning for Top-glove back to its average earnings before the pandemic. According to Top-Glove presentation in 2018 (refer to chart 1), Top Glove key market include Europe, North America and Asia make up Top Glove sales by 31%, 25% and 23% respectively. As USA have a sharp decrease in Covid-19 cases as of today using a 7 day average USA have around 12k of new Covid-19 cases while they are administering the vaccine at the doses per day of around 1 million. This means that the vaccine is being administer at a rate that the virus is infecting people slower than the vaccine is being administer.Furthermore in Europe, Germany is also show that the Covid-19 cases have been similar to the flatten peak from the highest at 15399 new cases at 25 of April 2021 to 903 at 8 of July 2021which means they overcome their second wave with the vaccine being administer in Germany at a rate about 600k to 800k per day . Meanwhile in China the curve have always been flatten since March 2020 with the past 7 days average have 20 daily cases while daily doses of vaccination being administer by China is around 15 million to 20 million a day.  \"\n",
    "context= \"Notable shift in performance in 2023. While revenue declined due to the completion of major infrastructure projects in 2022, profits grew, driven mainly by the LRT 3 rail construction project. The Division maintained a strong position with a robust client order book, reflecting its leading position in the industry\"\n",
    "\n",
    "# Format the prompt with actual data using LangChain\n",
    "formatted_prompt = prompt_template.format(context=context)\n",
    "\n",
    "# Define the system prompt for setting the role\n",
    "system_prompt = \"You are a financial analyst, your objective is to determine good and bad prospect of a company from it's financial statement and justify why. \"\n",
    "\n"
   ]
  },
  {
   "cell_type": "code",
   "execution_count": 5,
   "id": "150bafc5-292b-4374-91a1-2b99c2c78dff",
   "metadata": {},
   "outputs": [
    {
     "name": "stdout",
     "output_type": "stream",
     "text": [
      "Additional market conditions and sentiment that could affect this company, specifically in the LRT 3 rail construction project segment, include:\n",
      "\n",
      "1. **Government Spending and Infrastructure Policy**: Changes in government spending on infrastructure projects could significantly impact the company's revenue and profit. An increase in government allocation for rail construction projects would be beneficial, while a decrease could negatively affect the company's performance.\n",
      "\n",
      "2. **Economic Growth and Urbanization**: As countries experience economic growth and urbanization, the demand for reliable and efficient public transportation, such as LRT systems, is likely to rise. This could lead to an increase in demand for the company's services.\n",
      "\n",
      "3. **Competition from Alternative Mode of Transportation**: The rise of alternative modes of transportation, such as electric vehicles or Hyperloop systems, could potentially disrupt the demand for traditional rail construction projects. This could negatively impact the company's revenue if governments and private companies opt for alternative transportation solutions.\n",
      "\n",
      "4. **Environmental and Sustainability Concerns**: Growing concerns about environmental sustainability and climate change could lead to increased investment in green transportation projects. The company's expertise in LRT construction could be beneficial in this scenario, as LRT systems are generally considered a more environmentally friendly option compared to traditional rail or road transportation.\n",
      "\n",
      "5. **Supply Chain Disruptions**: Global events, such as pandemics or trade wars, can cause supply chain disruptions, affecting the company's ability to source necessary materials for construction projects. This could lead to delays and increased costs, negatively impacting the company's performance.\n",
      "\n",
      "In terms of sentiment, the market may be positively influenced by:\n",
      "\n",
      "1. **Successful Project Delivery**: The successful completion of the LRT 3 rail construction project could lead to increased investor confidence in the company's ability to execute large-scale infrastructure projects.\n",
      "\n",
      "2. **Investment in Emerging Markets**: The company's strong position in the industry could be seen as an attractive opportunity for investors looking to capitalize on emerging markets with growing infrastructure needs.\n",
      "\n",
      "However, the market may be negatively influenced by:\n",
      "\n",
      "1. **Delays or Cost Overruns**: Any delays or cost overruns in the LRT 3 rail construction project could lead to decreased investor confidence and negatively impact the company's performance.\n",
      "\n",
      "2. **Intense Competition**: Increased competition from other construction companies, especially those with lower costs or innovative solutions, could erode the company's market share and affect its revenue.\n"
     ]
    }
   ],
   "source": [
    "client = Groq(\n",
    "    api_key=os.getenv(\"GROQ_LLM_API\"),\n",
    ")\n",
    "\n",
    "chat_completion = client.chat.completions.create(\n",
    "    messages=[\n",
    "        {\"role\": \"system\", \"content\": system_prompt},\n",
    "        {\"role\": \"user\", \"content\": formatted_prompt},\n",
    "    ],\n",
    "    model=\"llama-3.1-70b-versatile\",\n",
    ")\n",
    "\n",
    "print(chat_completion.choices[0].message.content)"
   ]
  },
  {
   "cell_type": "code",
   "execution_count": null,
   "id": "e3460577-c8ae-4c86-8767-e225af4b5cfa",
   "metadata": {},
   "outputs": [],
   "source": []
  }
 ],
 "metadata": {
  "kernelspec": {
   "display_name": "Python 3 (ipykernel)",
   "language": "python",
   "name": "python3"
  },
  "language_info": {
   "codemirror_mode": {
    "name": "ipython",
    "version": 3
   },
   "file_extension": ".py",
   "mimetype": "text/x-python",
   "name": "python",
   "nbconvert_exporter": "python",
   "pygments_lexer": "ipython3",
   "version": "3.12.2"
  }
 },
 "nbformat": 4,
 "nbformat_minor": 5
}
