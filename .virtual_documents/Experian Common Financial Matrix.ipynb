


financial_statement = {
    'net_income': 5,
    'revenue': 2,
    'current_assets': 3,
    'current_liabilities': 3,
    'inventory': 1,
    'total_liabilities': 1,
    'total_equity': 1,
    'total_assets': 10,
    'profit_before_tax': 1,
    'interest_expense':1,
    'shareholders_equity':10,
    'capital_expenditures':3,
    'earnings_per_share': 0.5
}


# need the latest price_per_share, total_shares_outstanding, dividend maybe using API??
class fundamental_analysis:
    def __init__(self, data, price_per_share, total_shares_outstanding, dividend):
        self.data = data
        self.price_per_share = price_per_share
        self.total_shares_outstanding = total_shares_outstanding
        self.dividend = dividend
        
        # Analyze Liquidity
        self.current_ratio = self.data['current_assets'] / self.data['current_liabilities']
        self.quick_ratio = (self.data['current_assets'] - self.data['inventory'])/ self.data['current_liabilities']
        
        # Assess Leverage
        self.debt_to_equity_ratio = self.data['total_liabilities'] / self.data['total_equity']
        self.interest_coverage_ratio = self.data['profit_before_tax'] / self.data['interest_expense']
        
        # Evaluate Profitability
        self.net_profit_margin = self.data['net_income']/self.data['revenue']
        self.return_on_assets = self.data['net_income']/self.data['total_assets']
        self.return_on_equity = self.data['net_income']/self.data['shareholders_equity']
        
        # Assess Cash Flow
        self.operating_cash_flow = self.data['net_income'] + self.data['interest_expense'] + self.data['current_assets'] - self.data['current_liabilities'] - self.data['inventory']
        self.free_cash_flow = self.operating_cash_flow - self.data['capital_expenditures']
        
        # Examine Solvency
        self.debt_to_asset_ratio = self.data['total_liabilities'] / self.data['total_assets']
        self.equity_ratio = self.data['total_equity'] / self.data['total_assets']
        
        # Efficiency Ratio
        self.asset_turnover_ratio = self.data['revenue'] / self.data['total_assets']

        # Market Valuation Ratios
        self.pe_ratio = self.price_per_share / self.data['earnings_per_share']
        self.pb_ratio = self.price_per_share * self.total_shares_outstanding / self.data['total_equity']
        self.dividend_yield = self.dividend / self.price_per_share


test = fundamental_analysis(financial_statement,price_per_share=1, total_shares_outstanding=100, dividend=0)


test.dividend_yield



